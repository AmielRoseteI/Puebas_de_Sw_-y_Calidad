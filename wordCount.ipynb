{
  "nbformat": 4,
  "nbformat_minor": 0,
  "metadata": {
    "colab": {
      "provenance": []
    },
    "kernelspec": {
      "name": "python3",
      "display_name": "Python 3"
    },
    "language_info": {
      "name": "python"
    }
  },
  "cells": [
    {
      "cell_type": "code",
      "execution_count": 1,
      "metadata": {
        "colab": {
          "base_uri": "https://localhost:8080/"
        },
        "id": "TDwYU5e42VqG",
        "outputId": "6b53c6f2-d5f4-4aab-acbc-5faa2af3c352"
      },
      "outputs": [
        {
          "output_type": "stream",
          "name": "stdout",
          "text": [
            "Drive already mounted at /content/drive; to attempt to forcibly remount, call drive.mount(\"/content/drive\", force_remount=True).\n"
          ]
        }
      ],
      "source": [
        "#Google Drive Connection\n",
        "from google.colab import drive\n",
        "drive.mount('/content/drive')"
      ]
    },
    {
      "cell_type": "code",
      "source": [
        "filename =\"/content/drive/MyDrive/Colab Notebooks/Pruebas de SW y Calidad/Problema 1/TC1.txt\""
      ],
      "metadata": {
        "id": "yefRNZIS4rRE"
      },
      "execution_count": 2,
      "outputs": []
    },
    {
      "cell_type": "code",
      "source": [
        "def read_words_from_file(filename):\n",
        "   words = []\n",
        "   with open(filename, 'r') as file:\n",
        "    for line in file:\n",
        "        words.extend(line.strip().split())\n",
        "   return words"
      ],
      "metadata": {
        "id": "sOzuIyHCQL1C"
      },
      "execution_count": 3,
      "outputs": []
    },
    {
      "cell_type": "code",
      "source": [
        "words = read_words_from_file(filename)\n",
        "print(words)"
      ],
      "metadata": {
        "id": "yYRwFmEgBb3y",
        "colab": {
          "base_uri": "https://localhost:8080/"
        },
        "outputId": "90760a15-8249-4ef9-b41e-95b52f09dd8b"
      },
      "execution_count": 4,
      "outputs": [
        {
          "output_type": "stream",
          "name": "stdout",
          "text": [
            "['480', '59', '331', '416', '410', '383', '240', '393', '342', '449', '487', '487', '156', '461', '301', '2', '467', '81', '442', '19', '368', '7', '77', '205', '19', '448', '37', '290', '63', '384', '135', '198', '56', '11', '368', '8', '232', '294', '198', '210', '178', '270', '454', '330', '473', '118', '359', '365', '189', '76', '229', '94', '215', '89', '13', '488', '64', '223', '11', '71', '142', '136', '157', '386', '100', '499', '137', '499', '31', '169', '16', '457', '231', '356', '56', '272', '106', '152', '391', '439', '107', '69', '141', '246', '375', '409', '339', '104', '222', '481', '405', '357', '365', '466', '368', '269', '478', '267', '154', '277', '312', '380', '211', '46', '3', '363', '399', '333', '64', '154', '328', '408', '411', '278', '46', '170', '239', '474', '12', '285', '134', '260', '161', '251', '193', '464', '325', '452', '30', '255', '297', '23', '375', '366', '199', '333', '379', '273', '405', '64', '300', '19', '194', '207', '313', '298', '172', '423', '84', '132', '396', '252', '440', '234', '275', '325', '30', '101', '246', '166', '225', '299', '39', '477', '342', '11', '436', '166', '241', '273', '282', '96', '370', '459', '22', '89', '466', '268', '52', '341', '346', '433', '170', '190', '72', '204', '38', '276', '393', '379', '213', '96', '207', '464', '52', '166', '107', '256', '159', '259', '211', '281', '241', '138', '497', '168', '137', '482', '105', '369', '163', '415', '330', '149', '414', '76', '448', '215', '447', '375', '56', '175', '228', '268', '278', '350', '215', '23', '156', '348', '163', '356', '177', '249', '148', '370', '96', '86', '148', '76', '47', '359', '203', '1', '302', '27', '68', '327', '123', '290', '278', '148', '220', '186', '494', '430', '290', '254', '46', '117', '486', '170', '433', '286', '14', '195', '364', '450', '40', '41', '369', '153', '450', '500', '334', '15', '50', '84', '466', '9', '364', '304', '286', '14', '285', '272', '441', '239', '341', '18', '80', '13', '120', '277', '420', '73', '488', '393', '277', '190', '139', '331', '268', '390', '282', '63', '332', '211', '109', '385', '27', '218', '499', '357', '168', '395', '294', '393', '24', '206', '131', '5', '154', '462', '155', '409', '182', '149', '170', '316', '413', '198', '298', '236', '403', '160', '365', '58', '52', '110', '58', '60', '157', '322', '413', '449', '71', '325', '3', '115', '152', '393', '486', '51', '168', '424', '250', '331', '199', '213', '341', '105', '378', '250', '455', '164', '324', '101', '447', '367', '377', '179', '111', '18', '102', '453', '122', '357', '14', '455', '191', '447', '170', '178', '130', '130', '112', '412', '111', '391', '39', '346', '337', '114', '74', '3', '481', '384', '405', '405s']\n"
          ]
        }
      ]
    },
    {
      "cell_type": "code",
      "source": [
        "import time\n",
        "start_time = time.time()"
      ],
      "metadata": {
        "id": "H1kZRzPZc017"
      },
      "execution_count": 5,
      "outputs": []
    },
    {
      "cell_type": "code",
      "source": [
        "def count_word_frequencies(words):\n",
        "    word_counts = {}\n",
        "    for word in words:\n",
        "        word_counts[word] = word_counts.get(word, 0) + 1\n",
        "    return word_counts"
      ],
      "metadata": {
        "id": "jz3UB_8VlcPm"
      },
      "execution_count": 6,
      "outputs": []
    },
    {
      "cell_type": "code",
      "source": [
        "tiempo_t = time.time() - start_time"
      ],
      "metadata": {
        "id": "eIlMzlTgevOj"
      },
      "execution_count": 7,
      "outputs": []
    },
    {
      "cell_type": "code",
      "source": [
        "word_counts = count_word_frequencies(words)\n",
        "resultado = [f\"{word}: {count}\" for word, count in sorted(word_counts.items())]\n",
        "resultado.append(f\"Time Elapsed: {tiempo_t:.6f} seconds\")"
      ],
      "metadata": {
        "id": "oZgw7J3keazA"
      },
      "execution_count": 8,
      "outputs": []
    },
    {
      "cell_type": "code",
      "source": [
        "print(resultado)\n",
        "print(\"Tiempo transcurrido:\", (tiempo_t), \"segundos.\")"
      ],
      "metadata": {
        "colab": {
          "base_uri": "https://localhost:8080/"
        },
        "id": "iy26L1mfpWyD",
        "outputId": "93d9798d-1030-4ff5-937c-e18ec6623ec8"
      },
      "execution_count": 9,
      "outputs": [
        {
          "output_type": "stream",
          "name": "stdout",
          "text": [
            "['1: 1', '100: 1', '101: 2', '102: 1', '104: 1', '105: 2', '106: 1', '107: 2', '109: 1', '11: 3', '110: 1', '111: 2', '112: 1', '114: 1', '115: 1', '117: 1', '118: 1', '12: 1', '120: 1', '122: 1', '123: 1', '13: 2', '130: 2', '131: 1', '132: 1', '134: 1', '135: 1', '136: 1', '137: 2', '138: 1', '139: 1', '14: 3', '141: 1', '142: 1', '148: 3', '149: 2', '15: 1', '152: 2', '153: 1', '154: 3', '155: 1', '156: 2', '157: 2', '159: 1', '16: 1', '160: 1', '161: 1', '163: 2', '164: 1', '166: 3', '168: 3', '169: 1', '170: 5', '172: 1', '175: 1', '177: 1', '178: 2', '179: 1', '18: 2', '182: 1', '186: 1', '189: 1', '19: 3', '190: 2', '191: 1', '193: 1', '194: 1', '195: 1', '198: 3', '199: 2', '2: 1', '203: 1', '204: 1', '205: 1', '206: 1', '207: 2', '210: 1', '211: 3', '213: 2', '215: 3', '218: 1', '22: 1', '220: 1', '222: 1', '223: 1', '225: 1', '228: 1', '229: 1', '23: 2', '231: 1', '232: 1', '234: 1', '236: 1', '239: 2', '24: 1', '240: 1', '241: 2', '246: 2', '249: 1', '250: 2', '251: 1', '252: 1', '254: 1', '255: 1', '256: 1', '259: 1', '260: 1', '267: 1', '268: 3', '269: 1', '27: 2', '270: 1', '272: 2', '273: 2', '275: 1', '276: 1', '277: 3', '278: 3', '281: 1', '282: 2', '285: 2', '286: 2', '290: 3', '294: 2', '297: 1', '298: 2', '299: 1', '3: 3', '30: 2', '300: 1', '301: 1', '302: 1', '304: 1', '31: 1', '312: 1', '313: 1', '316: 1', '322: 1', '324: 1', '325: 3', '327: 1', '328: 1', '330: 2', '331: 3', '332: 1', '333: 2', '334: 1', '337: 1', '339: 1', '341: 3', '342: 2', '346: 2', '348: 1', '350: 1', '356: 2', '357: 3', '359: 2', '363: 1', '364: 2', '365: 3', '366: 1', '367: 1', '368: 3', '369: 2', '37: 1', '370: 2', '375: 3', '377: 1', '378: 1', '379: 2', '38: 1', '380: 1', '383: 1', '384: 2', '385: 1', '386: 1', '39: 2', '390: 1', '391: 2', '393: 5', '395: 1', '396: 1', '399: 1', '40: 1', '403: 1', '405: 3', '405s: 1', '408: 1', '409: 2', '41: 1', '410: 1', '411: 1', '412: 1', '413: 2', '414: 1', '415: 1', '416: 1', '420: 1', '423: 1', '424: 1', '430: 1', '433: 2', '436: 1', '439: 1', '440: 1', '441: 1', '442: 1', '447: 3', '448: 2', '449: 2', '450: 2', '452: 1', '453: 1', '454: 1', '455: 2', '457: 1', '459: 1', '46: 3', '461: 1', '462: 1', '464: 2', '466: 3', '467: 1', '47: 1', '473: 1', '474: 1', '477: 1', '478: 1', '480: 1', '481: 2', '482: 1', '486: 2', '487: 2', '488: 2', '494: 1', '497: 1', '499: 3', '5: 1', '50: 1', '500: 1', '51: 1', '52: 3', '56: 3', '58: 2', '59: 1', '60: 1', '63: 2', '64: 3', '68: 1', '69: 1', '7: 1', '71: 2', '72: 1', '73: 1', '74: 1', '76: 3', '77: 1', '8: 1', '80: 1', '81: 1', '84: 2', '86: 1', '89: 2', '9: 1', '94: 1', '96: 3', 'Time Elapsed: 0.021844 seconds']\n",
            "Tiempo transcurrido: 0.021843910217285156 segundos.\n"
          ]
        }
      ]
    },
    {
      "cell_type": "code",
      "source": [
        "resultado_f = \"\\n\".join(resultado)\n",
        "with open(\"wordCount.txt\", \"w\") as output_file:\n",
        "        output_file.write(resultado_f)"
      ],
      "metadata": {
        "id": "XmTEab-hrZgj"
      },
      "execution_count": 10,
      "outputs": []
    },
    {
      "cell_type": "code",
      "source": [
        "pip install pylint"
      ],
      "metadata": {
        "colab": {
          "base_uri": "https://localhost:8080/"
        },
        "id": "rkVtO5MftAdw",
        "outputId": "2a2795fe-e56b-4a9f-afc5-6021a0984fe7"
      },
      "execution_count": 11,
      "outputs": [
        {
          "output_type": "stream",
          "name": "stdout",
          "text": [
            "Collecting pylint\n",
            "  Downloading pylint-3.3.4-py3-none-any.whl.metadata (12 kB)\n",
            "Collecting dill>=0.2 (from pylint)\n",
            "  Downloading dill-0.3.9-py3-none-any.whl.metadata (10 kB)\n",
            "Requirement already satisfied: platformdirs>=2.2.0 in /usr/local/lib/python3.10/dist-packages (from pylint) (4.3.6)\n",
            "Collecting astroid<=3.4.0-dev0,>=3.3.8 (from pylint)\n",
            "  Downloading astroid-3.3.8-py3-none-any.whl.metadata (4.5 kB)\n",
            "Collecting isort!=5.13.0,<7,>=4.2.5 (from pylint)\n",
            "  Downloading isort-6.0.0-py3-none-any.whl.metadata (11 kB)\n",
            "Collecting mccabe<0.8,>=0.6 (from pylint)\n",
            "  Downloading mccabe-0.7.0-py2.py3-none-any.whl.metadata (5.0 kB)\n",
            "Requirement already satisfied: tomli>=1.1.0 in /usr/local/lib/python3.10/dist-packages (from pylint) (2.2.1)\n",
            "Collecting tomlkit>=0.10.1 (from pylint)\n",
            "  Downloading tomlkit-0.13.2-py3-none-any.whl.metadata (2.7 kB)\n",
            "Requirement already satisfied: typing-extensions>=4.0.0 in /usr/local/lib/python3.10/dist-packages (from astroid<=3.4.0-dev0,>=3.3.8->pylint) (4.12.2)\n",
            "Downloading pylint-3.3.4-py3-none-any.whl (522 kB)\n",
            "\u001b[2K   \u001b[90m━━━━━━━━━━━━━━━━━━━━━━━━━━━━━━━━━━━━━━━━\u001b[0m \u001b[32m522.3/522.3 kB\u001b[0m \u001b[31m11.3 MB/s\u001b[0m eta \u001b[36m0:00:00\u001b[0m\n",
            "\u001b[?25hDownloading astroid-3.3.8-py3-none-any.whl (275 kB)\n",
            "\u001b[2K   \u001b[90m━━━━━━━━━━━━━━━━━━━━━━━━━━━━━━━━━━━━━━━━\u001b[0m \u001b[32m275.2/275.2 kB\u001b[0m \u001b[31m18.2 MB/s\u001b[0m eta \u001b[36m0:00:00\u001b[0m\n",
            "\u001b[?25hDownloading dill-0.3.9-py3-none-any.whl (119 kB)\n",
            "\u001b[2K   \u001b[90m━━━━━━━━━━━━━━━━━━━━━━━━━━━━━━━━━━━━━━━━\u001b[0m \u001b[32m119.4/119.4 kB\u001b[0m \u001b[31m8.8 MB/s\u001b[0m eta \u001b[36m0:00:00\u001b[0m\n",
            "\u001b[?25hDownloading isort-6.0.0-py3-none-any.whl (94 kB)\n",
            "\u001b[2K   \u001b[90m━━━━━━━━━━━━━━━━━━━━━━━━━━━━━━━━━━━━━━━━\u001b[0m \u001b[32m94.1/94.1 kB\u001b[0m \u001b[31m6.5 MB/s\u001b[0m eta \u001b[36m0:00:00\u001b[0m\n",
            "\u001b[?25hDownloading mccabe-0.7.0-py2.py3-none-any.whl (7.3 kB)\n",
            "Downloading tomlkit-0.13.2-py3-none-any.whl (37 kB)\n",
            "Installing collected packages: tomlkit, mccabe, isort, dill, astroid, pylint\n",
            "Successfully installed astroid-3.3.8 dill-0.3.9 isort-6.0.0 mccabe-0.7.0 pylint-3.3.4 tomlkit-0.13.2\n"
          ]
        }
      ]
    },
    {
      "cell_type": "code",
      "source": [
        "!pylint \"/content/drive/MyDrive/Colab Notebooks/Pruebas de SW y Calidad/Problema 3/wordCount.ipynb\""
      ],
      "metadata": {
        "colab": {
          "base_uri": "https://localhost:8080/"
        },
        "id": "RcB6ZKPhtAbC",
        "outputId": "75a0f23d-52d1-4527-f17e-3d9de57eb65f"
      },
      "execution_count": 13,
      "outputs": [
        {
          "output_type": "stream",
          "name": "stdout",
          "text": [
            "************* Module wordCount\n",
            "drive/MyDrive/Colab Notebooks/Pruebas de SW y Calidad/Problema 3/wordCount.ipynb:1:0: C0304: Final newline missing (missing-final-newline)\n",
            "drive/MyDrive/Colab Notebooks/Pruebas de SW y Calidad/Problema 3/wordCount.ipynb:1:0: C0301: Line too long (7814/100) (line-too-long)\n",
            "drive/MyDrive/Colab Notebooks/Pruebas de SW y Calidad/Problema 3/wordCount.ipynb:1:0: C0114: Missing module docstring (missing-module-docstring)\n",
            "drive/MyDrive/Colab Notebooks/Pruebas de SW y Calidad/Problema 3/wordCount.ipynb:1:0: C0103: Module name \"wordCount\" doesn't conform to snake_case naming style (invalid-name)\n",
            "drive/MyDrive/Colab Notebooks/Pruebas de SW y Calidad/Problema 3/wordCount.ipynb:1:0: W0104: Statement seems to have no effect (pointless-statement)\n",
            "drive/MyDrive/Colab Notebooks/Pruebas de SW y Calidad/Problema 3/wordCount.ipynb:1:6708: E0602: Undefined variable 'null' (undefined-variable)\n",
            "drive/MyDrive/Colab Notebooks/Pruebas de SW y Calidad/Problema 3/wordCount.ipynb:1:7119: E0602: Undefined variable 'null' (undefined-variable)\n",
            "drive/MyDrive/Colab Notebooks/Pruebas de SW y Calidad/Problema 3/wordCount.ipynb:1:7412: E0602: Undefined variable 'null' (undefined-variable)\n",
            "drive/MyDrive/Colab Notebooks/Pruebas de SW y Calidad/Problema 3/wordCount.ipynb:1:7794: E0602: Undefined variable 'null' (undefined-variable)\n",
            "\n",
            "-----------------------------------\n",
            "Your code has been rated at 0.00/10\n",
            "\n"
          ]
        }
      ]
    }
  ]
}