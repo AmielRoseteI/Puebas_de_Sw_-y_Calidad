{
  "nbformat": 4,
  "nbformat_minor": 0,
  "metadata": {
    "colab": {
      "provenance": []
    },
    "kernelspec": {
      "name": "python3",
      "display_name": "Python 3"
    },
    "language_info": {
      "name": "python"
    }
  },
  "cells": [
    {
      "cell_type": "code",
      "execution_count": 1,
      "metadata": {
        "colab": {
          "base_uri": "https://localhost:8080/"
        },
        "id": "TDwYU5e42VqG",
        "outputId": "6dbbef3b-4044-43c5-ec67-8dc2f3bdfcd6"
      },
      "outputs": [
        {
          "output_type": "stream",
          "name": "stdout",
          "text": [
            "Drive already mounted at /content/drive; to attempt to forcibly remount, call drive.mount(\"/content/drive\", force_remount=True).\n"
          ]
        }
      ],
      "source": [
        "#Google Drive Connection\n",
        "from google.colab import drive\n",
        "drive.mount('/content/drive')"
      ]
    },
    {
      "cell_type": "code",
      "source": [
        "filename =\"/content/drive/MyDrive/Colab Notebooks/Pruebas de SW y Calidad/Problema 1/TC1.txt\""
      ],
      "metadata": {
        "id": "yefRNZIS4rRE"
      },
      "execution_count": 2,
      "outputs": []
    },
    {
      "cell_type": "code",
      "source": [
        "def read_numbers_from_file(filename):\n",
        "   numbers = []\n",
        "   with open(filename, 'r') as file:\n",
        "    for line in file:\n",
        "      try:\n",
        "        numbers.append(float(line.strip()))\n",
        "      except ValueError:\n",
        "                print(f\"Error: Invalid data '{line.strip()}' ignored.\")\n",
        "   return numbers\n",
        "   numbers"
      ],
      "metadata": {
        "id": "sOzuIyHCQL1C"
      },
      "execution_count": 3,
      "outputs": []
    },
    {
      "cell_type": "code",
      "source": [
        "numbers = read_numbers_from_file(filename)"
      ],
      "metadata": {
        "id": "yYRwFmEgBb3y",
        "colab": {
          "base_uri": "https://localhost:8080/"
        },
        "outputId": "779e31db-1464-4fae-8f7d-fa6fdb7b4972"
      },
      "execution_count": 4,
      "outputs": [
        {
          "output_type": "stream",
          "name": "stdout",
          "text": [
            "Error: Invalid data '405s' ignored.\n"
          ]
        }
      ]
    },
    {
      "cell_type": "code",
      "source": [
        "import time\n",
        "start_time = time.time()"
      ],
      "metadata": {
        "id": "H1kZRzPZc017"
      },
      "execution_count": 5,
      "outputs": []
    },
    {
      "cell_type": "code",
      "source": [
        "import statistics\n",
        "longitud = len(numbers)\n",
        "media =  sum(numbers)/len(numbers)\n",
        "mediana = statistics.median(numbers)\n",
        "moda = statistics.mode(numbers)\n",
        "desvi = statistics.stdev(numbers)\n",
        "varianza = statistics.variance(numbers)\n",
        "tiempo_t = time.time() - start_time"
      ],
      "metadata": {
        "id": "eIlMzlTgevOj"
      },
      "execution_count": 6,
      "outputs": []
    },
    {
      "cell_type": "code",
      "source": [
        " resultado = (\n",
        "        f\"Longitud: {longitud}\\nMedia: {media}\\nMediana: {mediana}\\n\"\n",
        "        f\"Moda: {moda}\\nDesviación Estándar: {desvi}\\nVarianza: {varianza}\\n\"\n",
        "        f\"Tiempo transcurrido: {tiempo_t:.6f} segundos\"\n",
        " )\n",
        " print(resultado)"
      ],
      "metadata": {
        "colab": {
          "base_uri": "https://localhost:8080/"
        },
        "id": "oZgw7J3keazA",
        "outputId": "15429518-e8fb-4d28-de51-524660070581"
      },
      "execution_count": 7,
      "outputs": [
        {
          "output_type": "stream",
          "name": "stdout",
          "text": [
            "Longitud: 399\n",
            "Media: 241.91228070175438\n",
            "Mediana: 239.0\n",
            "Moda: 393.0\n",
            "Desviación Estándar: 145.39355644539617\n",
            "Varianza: 21139.286255840605\n",
            "Tiempo transcurrido: 0.031273 segundos\n"
          ]
        }
      ]
    },
    {
      "cell_type": "code",
      "source": [
        "with open(\"StatisticsResults.txt\", \"w\") as output_file:\n",
        "        output_file.write(resultado)"
      ],
      "metadata": {
        "id": "PnM0fXgeg20b"
      },
      "execution_count": 8,
      "outputs": []
    },
    {
      "cell_type": "code",
      "source": [
        "pip install pylint"
      ],
      "metadata": {
        "colab": {
          "base_uri": "https://localhost:8080/"
        },
        "id": "bLlyw30_hI9W",
        "outputId": "970279e0-adb6-4686-b872-f44b1f559cff"
      },
      "execution_count": 9,
      "outputs": [
        {
          "output_type": "stream",
          "name": "stdout",
          "text": [
            "Requirement already satisfied: pylint in /usr/local/lib/python3.11/dist-packages (3.3.4)\n",
            "Requirement already satisfied: dill>=0.3.6 in /usr/local/lib/python3.11/dist-packages (from pylint) (0.3.9)\n",
            "Requirement already satisfied: platformdirs>=2.2.0 in /usr/local/lib/python3.11/dist-packages (from pylint) (4.3.6)\n",
            "Requirement already satisfied: astroid<=3.4.0-dev0,>=3.3.8 in /usr/local/lib/python3.11/dist-packages (from pylint) (3.3.8)\n",
            "Requirement already satisfied: isort!=5.13.0,<7,>=4.2.5 in /usr/local/lib/python3.11/dist-packages (from pylint) (6.0.0)\n",
            "Requirement already satisfied: mccabe<0.8,>=0.6 in /usr/local/lib/python3.11/dist-packages (from pylint) (0.7.0)\n",
            "Requirement already satisfied: tomlkit>=0.10.1 in /usr/local/lib/python3.11/dist-packages (from pylint) (0.13.2)\n"
          ]
        }
      ]
    },
    {
      "cell_type": "code",
      "source": [
        "!pylint \"/content/drive/MyDrive/Colab Notebooks/Pruebas de SW y Calidad/Problema 1/compute_statistics.ipynb\""
      ],
      "metadata": {
        "colab": {
          "base_uri": "https://localhost:8080/"
        },
        "id": "LecGMbTphBBk",
        "outputId": "1c9cbd37-aa63-4d9b-f0f1-59cad4b7c3bd"
      },
      "execution_count": 10,
      "outputs": [
        {
          "output_type": "stream",
          "name": "stdout",
          "text": [
            "************* Module compute_statistics\n",
            "drive/MyDrive/Colab Notebooks/Pruebas de SW y Calidad/Problema 1/compute_statistics.ipynb:1:0: C0304: Final newline missing (missing-final-newline)\n",
            "drive/MyDrive/Colab Notebooks/Pruebas de SW y Calidad/Problema 1/compute_statistics.ipynb:1:0: C0301: Line too long (6657/100) (line-too-long)\n",
            "drive/MyDrive/Colab Notebooks/Pruebas de SW y Calidad/Problema 1/compute_statistics.ipynb:1:0: C0114: Missing module docstring (missing-module-docstring)\n",
            "drive/MyDrive/Colab Notebooks/Pruebas de SW y Calidad/Problema 1/compute_statistics.ipynb:1:0: W0104: Statement seems to have no effect (pointless-statement)\n",
            "drive/MyDrive/Colab Notebooks/Pruebas de SW y Calidad/Problema 1/compute_statistics.ipynb:1:6256: E0602: Undefined variable 'null' (undefined-variable)\n",
            "drive/MyDrive/Colab Notebooks/Pruebas de SW y Calidad/Problema 1/compute_statistics.ipynb:1:6641: E0602: Undefined variable 'null' (undefined-variable)\n",
            "\n",
            "------------------------------------------------------------------\n",
            "Your code has been rated at 0.00/10 (previous run: 0.00/10, +0.00)\n",
            "\n"
          ]
        }
      ]
    }
  ]
}