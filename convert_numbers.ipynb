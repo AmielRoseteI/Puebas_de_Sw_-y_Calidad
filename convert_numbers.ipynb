{
  "nbformat": 4,
  "nbformat_minor": 0,
  "metadata": {
    "colab": {
      "provenance": []
    },
    "kernelspec": {
      "name": "python3",
      "display_name": "Python 3"
    },
    "language_info": {
      "name": "python"
    }
  },
  "cells": [
    {
      "cell_type": "code",
      "execution_count": 1,
      "metadata": {
        "colab": {
          "base_uri": "https://localhost:8080/"
        },
        "id": "TDwYU5e42VqG",
        "outputId": "098f4ff3-5baf-44b5-8927-452ae02d9aaa"
      },
      "outputs": [
        {
          "output_type": "stream",
          "name": "stdout",
          "text": [
            "Drive already mounted at /content/drive; to attempt to forcibly remount, call drive.mount(\"/content/drive\", force_remount=True).\n"
          ]
        }
      ],
      "source": [
        "#Google Drive Connection\n",
        "from google.colab import drive\n",
        "drive.mount('/content/drive')"
      ]
    },
    {
      "cell_type": "code",
      "source": [
        "filename =\"/content/drive/MyDrive/Colab Notebooks/Pruebas de SW y Calidad/Problema 1/TC1.txt\""
      ],
      "metadata": {
        "id": "yefRNZIS4rRE"
      },
      "execution_count": 2,
      "outputs": []
    },
    {
      "cell_type": "code",
      "source": [
        "def read_numbers_from_file(filename):\n",
        "   numbers = []\n",
        "   with open(filename, 'r') as file:\n",
        "    for line in file:\n",
        "      try:\n",
        "        numbers.append(int(line.strip()))\n",
        "      except ValueError:\n",
        "                print(f\"Error: Invalid data '{line.strip()}' ignored.\")\n",
        "   return numbers"
      ],
      "metadata": {
        "id": "sOzuIyHCQL1C"
      },
      "execution_count": 3,
      "outputs": []
    },
    {
      "cell_type": "code",
      "source": [
        "numbers = read_numbers_from_file(filename)"
      ],
      "metadata": {
        "id": "yYRwFmEgBb3y",
        "colab": {
          "base_uri": "https://localhost:8080/"
        },
        "outputId": "75678569-c583-45a0-bd84-e31c6a3021d9"
      },
      "execution_count": 4,
      "outputs": [
        {
          "output_type": "stream",
          "name": "stdout",
          "text": [
            "Error: Invalid data '405s' ignored.\n"
          ]
        }
      ]
    },
    {
      "cell_type": "code",
      "source": [
        "import time\n",
        "start_time = time.time()"
      ],
      "metadata": {
        "id": "H1kZRzPZc017"
      },
      "execution_count": 5,
      "outputs": []
    },
    {
      "cell_type": "code",
      "source": [
        "def to_binary(n):\n",
        "    binary = \"\"\n",
        "    if n == 0:\n",
        "        return \"0\"\n",
        "    while n > 0:\n",
        "        binary = str(n % 2) + binary\n",
        "        n //= 2\n",
        "    return binary"
      ],
      "metadata": {
        "id": "jz3UB_8VlcPm"
      },
      "execution_count": 6,
      "outputs": []
    },
    {
      "cell_type": "code",
      "source": [
        "def to_hexadecimal(n):\n",
        "    hex_digits = \"0123456789ABCDEF\"\n",
        "    hexadecimal = \"\"\n",
        "    if n == 0:\n",
        "        return \"0\"\n",
        "    while n > 0:\n",
        "        hexadecimal = hex_digits[n % 16] + hexadecimal\n",
        "        n //= 16\n",
        "    return hexadecimal"
      ],
      "metadata": {
        "id": "z-ZaaQBUlf4F"
      },
      "execution_count": 7,
      "outputs": []
    },
    {
      "cell_type": "code",
      "source": [
        "tiempo_t = time.time() - start_time"
      ],
      "metadata": {
        "id": "eIlMzlTgevOj"
      },
      "execution_count": 8,
      "outputs": []
    },
    {
      "cell_type": "code",
      "source": [
        "  resultado = [\n",
        "        f\"{num} -> Binary: {to_binary(num)} ,Hexadecimal: {to_hexadecimal(num)}\\n\"\n",
        "        for num in numbers\n",
        "  ]\n",
        "  resultado.append(f\"Time Elapsed: {tiempo_t:.6f} seconds\")"
      ],
      "metadata": {
        "id": "oZgw7J3keazA"
      },
      "execution_count": 9,
      "outputs": []
    },
    {
      "cell_type": "code",
      "source": [
        "print(resultado)\n",
        "print(\"Tiempo transcurrido:\", (tiempo_t), \"segundos.\")"
      ],
      "metadata": {
        "colab": {
          "base_uri": "https://localhost:8080/"
        },
        "id": "iy26L1mfpWyD",
        "outputId": "c0ced200-9f33-4e1e-840d-cbaa07bb85c5"
      },
      "execution_count": 10,
      "outputs": [
        {
          "output_type": "stream",
          "name": "stdout",
          "text": [
            "['480 -> Binary: 111100000 ,Hexadecimal: 1E0\\n', '59 -> Binary: 111011 ,Hexadecimal: 3B\\n', '331 -> Binary: 101001011 ,Hexadecimal: 14B\\n', '416 -> Binary: 110100000 ,Hexadecimal: 1A0\\n', '410 -> Binary: 110011010 ,Hexadecimal: 19A\\n', '383 -> Binary: 101111111 ,Hexadecimal: 17F\\n', '240 -> Binary: 11110000 ,Hexadecimal: F0\\n', '393 -> Binary: 110001001 ,Hexadecimal: 189\\n', '342 -> Binary: 101010110 ,Hexadecimal: 156\\n', '449 -> Binary: 111000001 ,Hexadecimal: 1C1\\n', '487 -> Binary: 111100111 ,Hexadecimal: 1E7\\n', '487 -> Binary: 111100111 ,Hexadecimal: 1E7\\n', '156 -> Binary: 10011100 ,Hexadecimal: 9C\\n', '461 -> Binary: 111001101 ,Hexadecimal: 1CD\\n', '301 -> Binary: 100101101 ,Hexadecimal: 12D\\n', '2 -> Binary: 10 ,Hexadecimal: 2\\n', '467 -> Binary: 111010011 ,Hexadecimal: 1D3\\n', '81 -> Binary: 1010001 ,Hexadecimal: 51\\n', '442 -> Binary: 110111010 ,Hexadecimal: 1BA\\n', '19 -> Binary: 10011 ,Hexadecimal: 13\\n', '368 -> Binary: 101110000 ,Hexadecimal: 170\\n', '7 -> Binary: 111 ,Hexadecimal: 7\\n', '77 -> Binary: 1001101 ,Hexadecimal: 4D\\n', '205 -> Binary: 11001101 ,Hexadecimal: CD\\n', '19 -> Binary: 10011 ,Hexadecimal: 13\\n', '448 -> Binary: 111000000 ,Hexadecimal: 1C0\\n', '37 -> Binary: 100101 ,Hexadecimal: 25\\n', '290 -> Binary: 100100010 ,Hexadecimal: 122\\n', '63 -> Binary: 111111 ,Hexadecimal: 3F\\n', '384 -> Binary: 110000000 ,Hexadecimal: 180\\n', '135 -> Binary: 10000111 ,Hexadecimal: 87\\n', '198 -> Binary: 11000110 ,Hexadecimal: C6\\n', '56 -> Binary: 111000 ,Hexadecimal: 38\\n', '11 -> Binary: 1011 ,Hexadecimal: B\\n', '368 -> Binary: 101110000 ,Hexadecimal: 170\\n', '8 -> Binary: 1000 ,Hexadecimal: 8\\n', '232 -> Binary: 11101000 ,Hexadecimal: E8\\n', '294 -> Binary: 100100110 ,Hexadecimal: 126\\n', '198 -> Binary: 11000110 ,Hexadecimal: C6\\n', '210 -> Binary: 11010010 ,Hexadecimal: D2\\n', '178 -> Binary: 10110010 ,Hexadecimal: B2\\n', '270 -> Binary: 100001110 ,Hexadecimal: 10E\\n', '454 -> Binary: 111000110 ,Hexadecimal: 1C6\\n', '330 -> Binary: 101001010 ,Hexadecimal: 14A\\n', '473 -> Binary: 111011001 ,Hexadecimal: 1D9\\n', '118 -> Binary: 1110110 ,Hexadecimal: 76\\n', '359 -> Binary: 101100111 ,Hexadecimal: 167\\n', '365 -> Binary: 101101101 ,Hexadecimal: 16D\\n', '189 -> Binary: 10111101 ,Hexadecimal: BD\\n', '76 -> Binary: 1001100 ,Hexadecimal: 4C\\n', '229 -> Binary: 11100101 ,Hexadecimal: E5\\n', '94 -> Binary: 1011110 ,Hexadecimal: 5E\\n', '215 -> Binary: 11010111 ,Hexadecimal: D7\\n', '89 -> Binary: 1011001 ,Hexadecimal: 59\\n', '13 -> Binary: 1101 ,Hexadecimal: D\\n', '488 -> Binary: 111101000 ,Hexadecimal: 1E8\\n', '64 -> Binary: 1000000 ,Hexadecimal: 40\\n', '223 -> Binary: 11011111 ,Hexadecimal: DF\\n', '11 -> Binary: 1011 ,Hexadecimal: B\\n', '71 -> Binary: 1000111 ,Hexadecimal: 47\\n', '142 -> Binary: 10001110 ,Hexadecimal: 8E\\n', '136 -> Binary: 10001000 ,Hexadecimal: 88\\n', '157 -> Binary: 10011101 ,Hexadecimal: 9D\\n', '386 -> Binary: 110000010 ,Hexadecimal: 182\\n', '100 -> Binary: 1100100 ,Hexadecimal: 64\\n', '499 -> Binary: 111110011 ,Hexadecimal: 1F3\\n', '137 -> Binary: 10001001 ,Hexadecimal: 89\\n', '499 -> Binary: 111110011 ,Hexadecimal: 1F3\\n', '31 -> Binary: 11111 ,Hexadecimal: 1F\\n', '169 -> Binary: 10101001 ,Hexadecimal: A9\\n', '16 -> Binary: 10000 ,Hexadecimal: 10\\n', '457 -> Binary: 111001001 ,Hexadecimal: 1C9\\n', '231 -> Binary: 11100111 ,Hexadecimal: E7\\n', '356 -> Binary: 101100100 ,Hexadecimal: 164\\n', '56 -> Binary: 111000 ,Hexadecimal: 38\\n', '272 -> Binary: 100010000 ,Hexadecimal: 110\\n', '106 -> Binary: 1101010 ,Hexadecimal: 6A\\n', '152 -> Binary: 10011000 ,Hexadecimal: 98\\n', '391 -> Binary: 110000111 ,Hexadecimal: 187\\n', '439 -> Binary: 110110111 ,Hexadecimal: 1B7\\n', '107 -> Binary: 1101011 ,Hexadecimal: 6B\\n', '69 -> Binary: 1000101 ,Hexadecimal: 45\\n', '141 -> Binary: 10001101 ,Hexadecimal: 8D\\n', '246 -> Binary: 11110110 ,Hexadecimal: F6\\n', '375 -> Binary: 101110111 ,Hexadecimal: 177\\n', '409 -> Binary: 110011001 ,Hexadecimal: 199\\n', '339 -> Binary: 101010011 ,Hexadecimal: 153\\n', '104 -> Binary: 1101000 ,Hexadecimal: 68\\n', '222 -> Binary: 11011110 ,Hexadecimal: DE\\n', '481 -> Binary: 111100001 ,Hexadecimal: 1E1\\n', '405 -> Binary: 110010101 ,Hexadecimal: 195\\n', '357 -> Binary: 101100101 ,Hexadecimal: 165\\n', '365 -> Binary: 101101101 ,Hexadecimal: 16D\\n', '466 -> Binary: 111010010 ,Hexadecimal: 1D2\\n', '368 -> Binary: 101110000 ,Hexadecimal: 170\\n', '269 -> Binary: 100001101 ,Hexadecimal: 10D\\n', '478 -> Binary: 111011110 ,Hexadecimal: 1DE\\n', '267 -> Binary: 100001011 ,Hexadecimal: 10B\\n', '154 -> Binary: 10011010 ,Hexadecimal: 9A\\n', '277 -> Binary: 100010101 ,Hexadecimal: 115\\n', '312 -> Binary: 100111000 ,Hexadecimal: 138\\n', '380 -> Binary: 101111100 ,Hexadecimal: 17C\\n', '211 -> Binary: 11010011 ,Hexadecimal: D3\\n', '46 -> Binary: 101110 ,Hexadecimal: 2E\\n', '3 -> Binary: 11 ,Hexadecimal: 3\\n', '363 -> Binary: 101101011 ,Hexadecimal: 16B\\n', '399 -> Binary: 110001111 ,Hexadecimal: 18F\\n', '333 -> Binary: 101001101 ,Hexadecimal: 14D\\n', '64 -> Binary: 1000000 ,Hexadecimal: 40\\n', '154 -> Binary: 10011010 ,Hexadecimal: 9A\\n', '328 -> Binary: 101001000 ,Hexadecimal: 148\\n', '408 -> Binary: 110011000 ,Hexadecimal: 198\\n', '411 -> Binary: 110011011 ,Hexadecimal: 19B\\n', '278 -> Binary: 100010110 ,Hexadecimal: 116\\n', '46 -> Binary: 101110 ,Hexadecimal: 2E\\n', '170 -> Binary: 10101010 ,Hexadecimal: AA\\n', '239 -> Binary: 11101111 ,Hexadecimal: EF\\n', '474 -> Binary: 111011010 ,Hexadecimal: 1DA\\n', '12 -> Binary: 1100 ,Hexadecimal: C\\n', '285 -> Binary: 100011101 ,Hexadecimal: 11D\\n', '134 -> Binary: 10000110 ,Hexadecimal: 86\\n', '260 -> Binary: 100000100 ,Hexadecimal: 104\\n', '161 -> Binary: 10100001 ,Hexadecimal: A1\\n', '251 -> Binary: 11111011 ,Hexadecimal: FB\\n', '193 -> Binary: 11000001 ,Hexadecimal: C1\\n', '464 -> Binary: 111010000 ,Hexadecimal: 1D0\\n', '325 -> Binary: 101000101 ,Hexadecimal: 145\\n', '452 -> Binary: 111000100 ,Hexadecimal: 1C4\\n', '30 -> Binary: 11110 ,Hexadecimal: 1E\\n', '255 -> Binary: 11111111 ,Hexadecimal: FF\\n', '297 -> Binary: 100101001 ,Hexadecimal: 129\\n', '23 -> Binary: 10111 ,Hexadecimal: 17\\n', '375 -> Binary: 101110111 ,Hexadecimal: 177\\n', '366 -> Binary: 101101110 ,Hexadecimal: 16E\\n', '199 -> Binary: 11000111 ,Hexadecimal: C7\\n', '333 -> Binary: 101001101 ,Hexadecimal: 14D\\n', '379 -> Binary: 101111011 ,Hexadecimal: 17B\\n', '273 -> Binary: 100010001 ,Hexadecimal: 111\\n', '405 -> Binary: 110010101 ,Hexadecimal: 195\\n', '64 -> Binary: 1000000 ,Hexadecimal: 40\\n', '300 -> Binary: 100101100 ,Hexadecimal: 12C\\n', '19 -> Binary: 10011 ,Hexadecimal: 13\\n', '194 -> Binary: 11000010 ,Hexadecimal: C2\\n', '207 -> Binary: 11001111 ,Hexadecimal: CF\\n', '313 -> Binary: 100111001 ,Hexadecimal: 139\\n', '298 -> Binary: 100101010 ,Hexadecimal: 12A\\n', '172 -> Binary: 10101100 ,Hexadecimal: AC\\n', '423 -> Binary: 110100111 ,Hexadecimal: 1A7\\n', '84 -> Binary: 1010100 ,Hexadecimal: 54\\n', '132 -> Binary: 10000100 ,Hexadecimal: 84\\n', '396 -> Binary: 110001100 ,Hexadecimal: 18C\\n', '252 -> Binary: 11111100 ,Hexadecimal: FC\\n', '440 -> Binary: 110111000 ,Hexadecimal: 1B8\\n', '234 -> Binary: 11101010 ,Hexadecimal: EA\\n', '275 -> Binary: 100010011 ,Hexadecimal: 113\\n', '325 -> Binary: 101000101 ,Hexadecimal: 145\\n', '30 -> Binary: 11110 ,Hexadecimal: 1E\\n', '101 -> Binary: 1100101 ,Hexadecimal: 65\\n', '246 -> Binary: 11110110 ,Hexadecimal: F6\\n', '166 -> Binary: 10100110 ,Hexadecimal: A6\\n', '225 -> Binary: 11100001 ,Hexadecimal: E1\\n', '299 -> Binary: 100101011 ,Hexadecimal: 12B\\n', '39 -> Binary: 100111 ,Hexadecimal: 27\\n', '477 -> Binary: 111011101 ,Hexadecimal: 1DD\\n', '342 -> Binary: 101010110 ,Hexadecimal: 156\\n', '11 -> Binary: 1011 ,Hexadecimal: B\\n', '436 -> Binary: 110110100 ,Hexadecimal: 1B4\\n', '166 -> Binary: 10100110 ,Hexadecimal: A6\\n', '241 -> Binary: 11110001 ,Hexadecimal: F1\\n', '273 -> Binary: 100010001 ,Hexadecimal: 111\\n', '282 -> Binary: 100011010 ,Hexadecimal: 11A\\n', '96 -> Binary: 1100000 ,Hexadecimal: 60\\n', '370 -> Binary: 101110010 ,Hexadecimal: 172\\n', '459 -> Binary: 111001011 ,Hexadecimal: 1CB\\n', '22 -> Binary: 10110 ,Hexadecimal: 16\\n', '89 -> Binary: 1011001 ,Hexadecimal: 59\\n', '466 -> Binary: 111010010 ,Hexadecimal: 1D2\\n', '268 -> Binary: 100001100 ,Hexadecimal: 10C\\n', '52 -> Binary: 110100 ,Hexadecimal: 34\\n', '341 -> Binary: 101010101 ,Hexadecimal: 155\\n', '346 -> Binary: 101011010 ,Hexadecimal: 15A\\n', '433 -> Binary: 110110001 ,Hexadecimal: 1B1\\n', '170 -> Binary: 10101010 ,Hexadecimal: AA\\n', '190 -> Binary: 10111110 ,Hexadecimal: BE\\n', '72 -> Binary: 1001000 ,Hexadecimal: 48\\n', '204 -> Binary: 11001100 ,Hexadecimal: CC\\n', '38 -> Binary: 100110 ,Hexadecimal: 26\\n', '276 -> Binary: 100010100 ,Hexadecimal: 114\\n', '393 -> Binary: 110001001 ,Hexadecimal: 189\\n', '379 -> Binary: 101111011 ,Hexadecimal: 17B\\n', '213 -> Binary: 11010101 ,Hexadecimal: D5\\n', '96 -> Binary: 1100000 ,Hexadecimal: 60\\n', '207 -> Binary: 11001111 ,Hexadecimal: CF\\n', '464 -> Binary: 111010000 ,Hexadecimal: 1D0\\n', '52 -> Binary: 110100 ,Hexadecimal: 34\\n', '166 -> Binary: 10100110 ,Hexadecimal: A6\\n', '107 -> Binary: 1101011 ,Hexadecimal: 6B\\n', '256 -> Binary: 100000000 ,Hexadecimal: 100\\n', '159 -> Binary: 10011111 ,Hexadecimal: 9F\\n', '259 -> Binary: 100000011 ,Hexadecimal: 103\\n', '211 -> Binary: 11010011 ,Hexadecimal: D3\\n', '281 -> Binary: 100011001 ,Hexadecimal: 119\\n', '241 -> Binary: 11110001 ,Hexadecimal: F1\\n', '138 -> Binary: 10001010 ,Hexadecimal: 8A\\n', '497 -> Binary: 111110001 ,Hexadecimal: 1F1\\n', '168 -> Binary: 10101000 ,Hexadecimal: A8\\n', '137 -> Binary: 10001001 ,Hexadecimal: 89\\n', '482 -> Binary: 111100010 ,Hexadecimal: 1E2\\n', '105 -> Binary: 1101001 ,Hexadecimal: 69\\n', '369 -> Binary: 101110001 ,Hexadecimal: 171\\n', '163 -> Binary: 10100011 ,Hexadecimal: A3\\n', '415 -> Binary: 110011111 ,Hexadecimal: 19F\\n', '330 -> Binary: 101001010 ,Hexadecimal: 14A\\n', '149 -> Binary: 10010101 ,Hexadecimal: 95\\n', '414 -> Binary: 110011110 ,Hexadecimal: 19E\\n', '76 -> Binary: 1001100 ,Hexadecimal: 4C\\n', '448 -> Binary: 111000000 ,Hexadecimal: 1C0\\n', '215 -> Binary: 11010111 ,Hexadecimal: D7\\n', '447 -> Binary: 110111111 ,Hexadecimal: 1BF\\n', '375 -> Binary: 101110111 ,Hexadecimal: 177\\n', '56 -> Binary: 111000 ,Hexadecimal: 38\\n', '175 -> Binary: 10101111 ,Hexadecimal: AF\\n', '228 -> Binary: 11100100 ,Hexadecimal: E4\\n', '268 -> Binary: 100001100 ,Hexadecimal: 10C\\n', '278 -> Binary: 100010110 ,Hexadecimal: 116\\n', '350 -> Binary: 101011110 ,Hexadecimal: 15E\\n', '215 -> Binary: 11010111 ,Hexadecimal: D7\\n', '23 -> Binary: 10111 ,Hexadecimal: 17\\n', '156 -> Binary: 10011100 ,Hexadecimal: 9C\\n', '348 -> Binary: 101011100 ,Hexadecimal: 15C\\n', '163 -> Binary: 10100011 ,Hexadecimal: A3\\n', '356 -> Binary: 101100100 ,Hexadecimal: 164\\n', '177 -> Binary: 10110001 ,Hexadecimal: B1\\n', '249 -> Binary: 11111001 ,Hexadecimal: F9\\n', '148 -> Binary: 10010100 ,Hexadecimal: 94\\n', '370 -> Binary: 101110010 ,Hexadecimal: 172\\n', '96 -> Binary: 1100000 ,Hexadecimal: 60\\n', '86 -> Binary: 1010110 ,Hexadecimal: 56\\n', '148 -> Binary: 10010100 ,Hexadecimal: 94\\n', '76 -> Binary: 1001100 ,Hexadecimal: 4C\\n', '47 -> Binary: 101111 ,Hexadecimal: 2F\\n', '359 -> Binary: 101100111 ,Hexadecimal: 167\\n', '203 -> Binary: 11001011 ,Hexadecimal: CB\\n', '1 -> Binary: 1 ,Hexadecimal: 1\\n', '302 -> Binary: 100101110 ,Hexadecimal: 12E\\n', '27 -> Binary: 11011 ,Hexadecimal: 1B\\n', '68 -> Binary: 1000100 ,Hexadecimal: 44\\n', '327 -> Binary: 101000111 ,Hexadecimal: 147\\n', '123 -> Binary: 1111011 ,Hexadecimal: 7B\\n', '290 -> Binary: 100100010 ,Hexadecimal: 122\\n', '278 -> Binary: 100010110 ,Hexadecimal: 116\\n', '148 -> Binary: 10010100 ,Hexadecimal: 94\\n', '220 -> Binary: 11011100 ,Hexadecimal: DC\\n', '186 -> Binary: 10111010 ,Hexadecimal: BA\\n', '494 -> Binary: 111101110 ,Hexadecimal: 1EE\\n', '430 -> Binary: 110101110 ,Hexadecimal: 1AE\\n', '290 -> Binary: 100100010 ,Hexadecimal: 122\\n', '254 -> Binary: 11111110 ,Hexadecimal: FE\\n', '46 -> Binary: 101110 ,Hexadecimal: 2E\\n', '117 -> Binary: 1110101 ,Hexadecimal: 75\\n', '486 -> Binary: 111100110 ,Hexadecimal: 1E6\\n', '170 -> Binary: 10101010 ,Hexadecimal: AA\\n', '433 -> Binary: 110110001 ,Hexadecimal: 1B1\\n', '286 -> Binary: 100011110 ,Hexadecimal: 11E\\n', '14 -> Binary: 1110 ,Hexadecimal: E\\n', '195 -> Binary: 11000011 ,Hexadecimal: C3\\n', '364 -> Binary: 101101100 ,Hexadecimal: 16C\\n', '450 -> Binary: 111000010 ,Hexadecimal: 1C2\\n', '40 -> Binary: 101000 ,Hexadecimal: 28\\n', '41 -> Binary: 101001 ,Hexadecimal: 29\\n', '369 -> Binary: 101110001 ,Hexadecimal: 171\\n', '153 -> Binary: 10011001 ,Hexadecimal: 99\\n', '450 -> Binary: 111000010 ,Hexadecimal: 1C2\\n', '500 -> Binary: 111110100 ,Hexadecimal: 1F4\\n', '334 -> Binary: 101001110 ,Hexadecimal: 14E\\n', '15 -> Binary: 1111 ,Hexadecimal: F\\n', '50 -> Binary: 110010 ,Hexadecimal: 32\\n', '84 -> Binary: 1010100 ,Hexadecimal: 54\\n', '466 -> Binary: 111010010 ,Hexadecimal: 1D2\\n', '9 -> Binary: 1001 ,Hexadecimal: 9\\n', '364 -> Binary: 101101100 ,Hexadecimal: 16C\\n', '304 -> Binary: 100110000 ,Hexadecimal: 130\\n', '286 -> Binary: 100011110 ,Hexadecimal: 11E\\n', '14 -> Binary: 1110 ,Hexadecimal: E\\n', '285 -> Binary: 100011101 ,Hexadecimal: 11D\\n', '272 -> Binary: 100010000 ,Hexadecimal: 110\\n', '441 -> Binary: 110111001 ,Hexadecimal: 1B9\\n', '239 -> Binary: 11101111 ,Hexadecimal: EF\\n', '341 -> Binary: 101010101 ,Hexadecimal: 155\\n', '18 -> Binary: 10010 ,Hexadecimal: 12\\n', '80 -> Binary: 1010000 ,Hexadecimal: 50\\n', '13 -> Binary: 1101 ,Hexadecimal: D\\n', '120 -> Binary: 1111000 ,Hexadecimal: 78\\n', '277 -> Binary: 100010101 ,Hexadecimal: 115\\n', '420 -> Binary: 110100100 ,Hexadecimal: 1A4\\n', '73 -> Binary: 1001001 ,Hexadecimal: 49\\n', '488 -> Binary: 111101000 ,Hexadecimal: 1E8\\n', '393 -> Binary: 110001001 ,Hexadecimal: 189\\n', '277 -> Binary: 100010101 ,Hexadecimal: 115\\n', '190 -> Binary: 10111110 ,Hexadecimal: BE\\n', '139 -> Binary: 10001011 ,Hexadecimal: 8B\\n', '331 -> Binary: 101001011 ,Hexadecimal: 14B\\n', '268 -> Binary: 100001100 ,Hexadecimal: 10C\\n', '390 -> Binary: 110000110 ,Hexadecimal: 186\\n', '282 -> Binary: 100011010 ,Hexadecimal: 11A\\n', '63 -> Binary: 111111 ,Hexadecimal: 3F\\n', '332 -> Binary: 101001100 ,Hexadecimal: 14C\\n', '211 -> Binary: 11010011 ,Hexadecimal: D3\\n', '109 -> Binary: 1101101 ,Hexadecimal: 6D\\n', '385 -> Binary: 110000001 ,Hexadecimal: 181\\n', '27 -> Binary: 11011 ,Hexadecimal: 1B\\n', '218 -> Binary: 11011010 ,Hexadecimal: DA\\n', '499 -> Binary: 111110011 ,Hexadecimal: 1F3\\n', '357 -> Binary: 101100101 ,Hexadecimal: 165\\n', '168 -> Binary: 10101000 ,Hexadecimal: A8\\n', '395 -> Binary: 110001011 ,Hexadecimal: 18B\\n', '294 -> Binary: 100100110 ,Hexadecimal: 126\\n', '393 -> Binary: 110001001 ,Hexadecimal: 189\\n', '24 -> Binary: 11000 ,Hexadecimal: 18\\n', '206 -> Binary: 11001110 ,Hexadecimal: CE\\n', '131 -> Binary: 10000011 ,Hexadecimal: 83\\n', '5 -> Binary: 101 ,Hexadecimal: 5\\n', '154 -> Binary: 10011010 ,Hexadecimal: 9A\\n', '462 -> Binary: 111001110 ,Hexadecimal: 1CE\\n', '155 -> Binary: 10011011 ,Hexadecimal: 9B\\n', '409 -> Binary: 110011001 ,Hexadecimal: 199\\n', '182 -> Binary: 10110110 ,Hexadecimal: B6\\n', '149 -> Binary: 10010101 ,Hexadecimal: 95\\n', '170 -> Binary: 10101010 ,Hexadecimal: AA\\n', '316 -> Binary: 100111100 ,Hexadecimal: 13C\\n', '413 -> Binary: 110011101 ,Hexadecimal: 19D\\n', '198 -> Binary: 11000110 ,Hexadecimal: C6\\n', '298 -> Binary: 100101010 ,Hexadecimal: 12A\\n', '236 -> Binary: 11101100 ,Hexadecimal: EC\\n', '403 -> Binary: 110010011 ,Hexadecimal: 193\\n', '160 -> Binary: 10100000 ,Hexadecimal: A0\\n', '365 -> Binary: 101101101 ,Hexadecimal: 16D\\n', '58 -> Binary: 111010 ,Hexadecimal: 3A\\n', '52 -> Binary: 110100 ,Hexadecimal: 34\\n', '110 -> Binary: 1101110 ,Hexadecimal: 6E\\n', '58 -> Binary: 111010 ,Hexadecimal: 3A\\n', '60 -> Binary: 111100 ,Hexadecimal: 3C\\n', '157 -> Binary: 10011101 ,Hexadecimal: 9D\\n', '322 -> Binary: 101000010 ,Hexadecimal: 142\\n', '413 -> Binary: 110011101 ,Hexadecimal: 19D\\n', '449 -> Binary: 111000001 ,Hexadecimal: 1C1\\n', '71 -> Binary: 1000111 ,Hexadecimal: 47\\n', '325 -> Binary: 101000101 ,Hexadecimal: 145\\n', '3 -> Binary: 11 ,Hexadecimal: 3\\n', '115 -> Binary: 1110011 ,Hexadecimal: 73\\n', '152 -> Binary: 10011000 ,Hexadecimal: 98\\n', '393 -> Binary: 110001001 ,Hexadecimal: 189\\n', '486 -> Binary: 111100110 ,Hexadecimal: 1E6\\n', '51 -> Binary: 110011 ,Hexadecimal: 33\\n', '168 -> Binary: 10101000 ,Hexadecimal: A8\\n', '424 -> Binary: 110101000 ,Hexadecimal: 1A8\\n', '250 -> Binary: 11111010 ,Hexadecimal: FA\\n', '331 -> Binary: 101001011 ,Hexadecimal: 14B\\n', '199 -> Binary: 11000111 ,Hexadecimal: C7\\n', '213 -> Binary: 11010101 ,Hexadecimal: D5\\n', '341 -> Binary: 101010101 ,Hexadecimal: 155\\n', '105 -> Binary: 1101001 ,Hexadecimal: 69\\n', '378 -> Binary: 101111010 ,Hexadecimal: 17A\\n', '250 -> Binary: 11111010 ,Hexadecimal: FA\\n', '455 -> Binary: 111000111 ,Hexadecimal: 1C7\\n', '164 -> Binary: 10100100 ,Hexadecimal: A4\\n', '324 -> Binary: 101000100 ,Hexadecimal: 144\\n', '101 -> Binary: 1100101 ,Hexadecimal: 65\\n', '447 -> Binary: 110111111 ,Hexadecimal: 1BF\\n', '367 -> Binary: 101101111 ,Hexadecimal: 16F\\n', '377 -> Binary: 101111001 ,Hexadecimal: 179\\n', '179 -> Binary: 10110011 ,Hexadecimal: B3\\n', '111 -> Binary: 1101111 ,Hexadecimal: 6F\\n', '18 -> Binary: 10010 ,Hexadecimal: 12\\n', '102 -> Binary: 1100110 ,Hexadecimal: 66\\n', '453 -> Binary: 111000101 ,Hexadecimal: 1C5\\n', '122 -> Binary: 1111010 ,Hexadecimal: 7A\\n', '357 -> Binary: 101100101 ,Hexadecimal: 165\\n', '14 -> Binary: 1110 ,Hexadecimal: E\\n', '455 -> Binary: 111000111 ,Hexadecimal: 1C7\\n', '191 -> Binary: 10111111 ,Hexadecimal: BF\\n', '447 -> Binary: 110111111 ,Hexadecimal: 1BF\\n', '170 -> Binary: 10101010 ,Hexadecimal: AA\\n', '178 -> Binary: 10110010 ,Hexadecimal: B2\\n', '130 -> Binary: 10000010 ,Hexadecimal: 82\\n', '130 -> Binary: 10000010 ,Hexadecimal: 82\\n', '112 -> Binary: 1110000 ,Hexadecimal: 70\\n', '412 -> Binary: 110011100 ,Hexadecimal: 19C\\n', '111 -> Binary: 1101111 ,Hexadecimal: 6F\\n', '391 -> Binary: 110000111 ,Hexadecimal: 187\\n', '39 -> Binary: 100111 ,Hexadecimal: 27\\n', '346 -> Binary: 101011010 ,Hexadecimal: 15A\\n', '337 -> Binary: 101010001 ,Hexadecimal: 151\\n', '114 -> Binary: 1110010 ,Hexadecimal: 72\\n', '74 -> Binary: 1001010 ,Hexadecimal: 4A\\n', '3 -> Binary: 11 ,Hexadecimal: 3\\n', '481 -> Binary: 111100001 ,Hexadecimal: 1E1\\n', '384 -> Binary: 110000000 ,Hexadecimal: 180\\n', '405 -> Binary: 110010101 ,Hexadecimal: 195\\n', 'Time Elapsed: 0.040612 seconds']\n",
            "Tiempo transcurrido: 0.040612220764160156 segundos.\n"
          ]
        }
      ]
    },
    {
      "cell_type": "code",
      "source": [
        "resultado_f = \"\\n\".join(resultado)\n",
        "with open(\"convertionResults.txt\", \"w\") as output_file:\n",
        "        output_file.write(resultado_f)"
      ],
      "metadata": {
        "id": "XmTEab-hrZgj"
      },
      "execution_count": 11,
      "outputs": []
    },
    {
      "cell_type": "code",
      "source": [
        "pip install pylint"
      ],
      "metadata": {
        "colab": {
          "base_uri": "https://localhost:8080/"
        },
        "id": "rkVtO5MftAdw",
        "outputId": "e4195f5c-09e7-48d6-c10e-add7b0969b0a"
      },
      "execution_count": 12,
      "outputs": [
        {
          "output_type": "stream",
          "name": "stdout",
          "text": [
            "Requirement already satisfied: pylint in /usr/local/lib/python3.11/dist-packages (3.3.4)\n",
            "Requirement already satisfied: dill>=0.3.6 in /usr/local/lib/python3.11/dist-packages (from pylint) (0.3.9)\n",
            "Requirement already satisfied: platformdirs>=2.2.0 in /usr/local/lib/python3.11/dist-packages (from pylint) (4.3.6)\n",
            "Requirement already satisfied: astroid<=3.4.0-dev0,>=3.3.8 in /usr/local/lib/python3.11/dist-packages (from pylint) (3.3.8)\n",
            "Requirement already satisfied: isort!=5.13.0,<7,>=4.2.5 in /usr/local/lib/python3.11/dist-packages (from pylint) (6.0.0)\n",
            "Requirement already satisfied: mccabe<0.8,>=0.6 in /usr/local/lib/python3.11/dist-packages (from pylint) (0.7.0)\n",
            "Requirement already satisfied: tomlkit>=0.10.1 in /usr/local/lib/python3.11/dist-packages (from pylint) (0.13.2)\n"
          ]
        }
      ]
    },
    {
      "cell_type": "code",
      "source": [
        "!pylint \"/content/drive/MyDrive/Colab Notebooks/Pruebas de SW y Calidad/Problema 2/convert_numbers.ipynb\""
      ],
      "metadata": {
        "colab": {
          "base_uri": "https://localhost:8080/"
        },
        "id": "RcB6ZKPhtAbC",
        "outputId": "ad995e48-24fd-4d83-a28b-e108b8636618"
      },
      "execution_count": 13,
      "outputs": [
        {
          "output_type": "stream",
          "name": "stdout",
          "text": [
            "************* Module convert_numbers\n",
            "drive/MyDrive/Colab Notebooks/Pruebas de SW y Calidad/Problema 2/convert_numbers.ipynb:1:0: C0304: Final newline missing (missing-final-newline)\n",
            "drive/MyDrive/Colab Notebooks/Pruebas de SW y Calidad/Problema 2/convert_numbers.ipynb:1:0: C0301: Line too long (26895/100) (line-too-long)\n",
            "drive/MyDrive/Colab Notebooks/Pruebas de SW y Calidad/Problema 2/convert_numbers.ipynb:1:0: C0114: Missing module docstring (missing-module-docstring)\n",
            "drive/MyDrive/Colab Notebooks/Pruebas de SW y Calidad/Problema 2/convert_numbers.ipynb:1:0: W0104: Statement seems to have no effect (pointless-statement)\n",
            "\n",
            "------------------------------------------------------------------\n",
            "Your code has been rated at 0.00/10 (previous run: 0.00/10, +0.00)\n",
            "\n"
          ]
        }
      ]
    }
  ]
}